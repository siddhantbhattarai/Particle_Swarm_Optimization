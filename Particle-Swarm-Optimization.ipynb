{
 "cells": [
  {
   "cell_type": "markdown",
   "id": "6d16cce3-8861-4781-9197-b2ff75762b64",
   "metadata": {},
   "source": [
    "Here is a Python implementation of **Particle Swarm Optimization (PSO)** to minimize the function **\\( f(x) = (x - 5)^2 \\)**. This implementation follows the standard PSO process:\n",
    "\n",
    "- Initialize a swarm of particles with random positions and velocities.\n",
    "- Update each particle’s velocity and position based on **personal best** and **global best**.\n",
    "- Continue iterating until convergence or reaching the maximum number of iterations."
   ]
  },
  {
   "cell_type": "code",
   "execution_count": 1,
   "id": "90bf2a53-a5f6-4c2f-b781-1f0318ac425a",
   "metadata": {},
   "outputs": [],
   "source": [
    "# Import necessary libraries\n",
    "import numpy as np\n",
    "import matplotlib.pyplot as plt"
   ]
  },
  {
   "cell_type": "code",
   "execution_count": 2,
   "id": "425c22fe-9017-4d61-8a49-14770c0417cc",
   "metadata": {},
   "outputs": [],
   "source": [
    "# Define the objective function f(x) = (x - 5)^2\n",
    "def objective_function(x):\n",
    "    return (x - 5) ** 2"
   ]
  },
  {
   "cell_type": "code",
   "execution_count": 3,
   "id": "ec52d4ca-1f92-4cd3-94aa-bbc877e0bb1d",
   "metadata": {},
   "outputs": [],
   "source": [
    "# Particle Swarm Optimization (PSO) Implementation\n",
    "class PSO:\n",
    "    def __init__(self, num_particles=30, max_iterations=100, w=0.5, c1=1.5, c2=1.5):\n",
    "        self.num_particles = num_particles  # Number of particles in the swarm\n",
    "        self.max_iterations = max_iterations  # Max number of iterations\n",
    "        self.w = w  # Inertia weight\n",
    "        self.c1 = c1  # Cognitive coefficient\n",
    "        self.c2 = c2  # Social coefficient\n",
    "\n",
    "        # Initialize particle positions and velocities randomly\n",
    "        self.positions = np.random.uniform(low=0, high=10, size=(num_particles, 1))\n",
    "        self.velocities = np.random.uniform(low=-1, high=1, size=(num_particles, 1))\n",
    "\n",
    "        # Initialize personal best positions and values\n",
    "        self.p_best_positions = np.copy(self.positions)\n",
    "        self.p_best_values = objective_function(self.p_best_positions)\n",
    "\n",
    "        # Initialize global best position and value\n",
    "        self.g_best_position = self.p_best_positions[np.argmin(self.p_best_values)]\n",
    "        self.g_best_value = np.min(self.p_best_values)\n",
    "\n",
    "    def optimize(self):\n",
    "        best_values = []  # Store best values for visualization\n",
    "        \n",
    "        for iteration in range(self.max_iterations):\n",
    "            # Evaluate fitness of each particle\n",
    "            fitness_values = objective_function(self.positions)\n",
    "\n",
    "            # Update personal bests\n",
    "            better_mask = fitness_values < self.p_best_values\n",
    "            self.p_best_positions[better_mask] = self.positions[better_mask]\n",
    "            self.p_best_values[better_mask] = fitness_values[better_mask]\n",
    "\n",
    "            # Update global best\n",
    "            if np.min(fitness_values) < self.g_best_value:\n",
    "                self.g_best_position = self.positions[np.argmin(fitness_values)]\n",
    "                self.g_best_value = np.min(fitness_values)\n",
    "\n",
    "            # Update velocity and position\n",
    "            r1, r2 = np.random.rand(self.num_particles, 1), np.random.rand(self.num_particles, 1)\n",
    "            self.velocities = (\n",
    "                self.w * self.velocities +\n",
    "                self.c1 * r1 * (self.p_best_positions - self.positions) +\n",
    "                self.c2 * r2 * (self.g_best_position - self.positions)\n",
    "            )\n",
    "            self.positions += self.velocities\n",
    "\n",
    "            best_values.append(self.g_best_value)  # Store best value for plotting\n",
    "\n",
    "        return self.g_best_position, self.g_best_value, best_values"
   ]
  },
  {
   "cell_type": "code",
   "execution_count": 4,
   "id": "fbae7691-5c98-4448-8359-76eaaa8b3501",
   "metadata": {},
   "outputs": [
    {
     "name": "stdout",
     "output_type": "stream",
     "text": [
      "Optimal position (x): 5.0000\n",
      "Optimal function value (f(x)): 0.0000\n"
     ]
    }
   ],
   "source": [
    "# Run PSO\n",
    "pso = PSO()\n",
    "best_position, best_value, best_values = pso.optimize()\n",
    "\n",
    "# Print the results\n",
    "print(f\"Optimal position (x): {best_position[0]:.4f}\")\n",
    "print(f\"Optimal function value (f(x)): {best_value:.4f}\")"
   ]
  },
  {
   "cell_type": "code",
   "execution_count": 5,
   "id": "2a1af268-5609-4cc3-8939-3a28dbcfdb54",
   "metadata": {},
   "outputs": [
    {
     "data": {
      "image/png": "[encoded data removed]",
      "text/plain": [
       "<Figure size 640x480 with 1 Axes>"
      ]
     },
     "metadata": {},
     "output_type": "display_data"
    }
   ],
   "source": [
    "# Plot the convergence graph\n",
    "plt.plot(best_values)\n",
    "plt.xlabel(\"Iterations\")\n",
    "plt.ylabel(\"Best Function Value\")\n",
    "plt.title(\"PSO Convergence\")\n",
    "plt.show()"
   ]
  },
  {
   "cell_type": "markdown",
   "id": "c3541ecf-6d9c-4365-a3f6-d809c2cac881",
   "metadata": {},
   "source": [
    "### **How it Works:**\n",
    "1. **Initialize particles** with random positions in the range \\([0,10]\\) and random velocities.\n",
    "2. **Evaluate the fitness** of each particle using \\( f(x) = (x - 5)^2 \\).\n",
    "3. **Update personal and global bests**:\n",
    "   - If a particle finds a better position, update its **personal best**.\n",
    "   - If the swarm finds a better solution, update the **global best**.\n",
    "4. **Update velocity and position** using the PSO velocity update equation.\n",
    "5. **Repeat** the process for a given number of iterations.\n",
    "6. **Plot the convergence graph** to visualize the optimization progress.\n",
    "\n",
    "### **Expected Output:**\n",
    "- The algorithm should find an **optimal position near \\( x = 5 \\)**.\n",
    "- The function value **\\( f(x) = 0 )** at convergence.\n",
    "- A plot showing the convergence of the best function value over iterations."
   ]
  },
  {
   "cell_type": "code",
   "execution_count": null,
   "id": "b7bb9cba-a4d3-4e8a-a360-3d578ca8078c",
   "metadata": {},
   "outputs": [],
   "source": []
  }
 ],
 "metadata": {
  "kernelspec": {
   "display_name": "Python 3 (ipykernel)",
   "language": "python",
   "name": "python3"
  },
  "language_info": {
   "codemirror_mode": {
    "name": "ipython",
    "version": 3
   },
   "file_extension": ".py",
   "mimetype": "text/x-python",
   "name": "python",
   "nbconvert_exporter": "python",
   "pygments_lexer": "ipython3",
   "version": "3.11.10"
  }
 },
 "nbformat": 4,
 "nbformat_minor": 5
}
